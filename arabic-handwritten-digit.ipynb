{
 "cells": [
  {
   "cell_type": "code",
   "execution_count": 1,
   "id": "4b39c14a",
   "metadata": {
    "_cell_guid": "b1076dfc-b9ad-4769-8c92-a6c4dae69d19",
    "_uuid": "8f2839f25d086af736a60e9eeb907d3b93b6e0e5",
    "execution": {
     "iopub.execute_input": "2022-09-15T23:17:21.847179Z",
     "iopub.status.busy": "2022-09-15T23:17:21.846612Z",
     "iopub.status.idle": "2022-09-15T23:17:21.877322Z",
     "shell.execute_reply": "2022-09-15T23:17:21.876231Z"
    },
    "papermill": {
     "duration": 0.044217,
     "end_time": "2022-09-15T23:17:21.880267",
     "exception": false,
     "start_time": "2022-09-15T23:17:21.836050",
     "status": "completed"
    },
    "tags": []
   },
   "outputs": [
    {
     "name": "stdout",
     "output_type": "stream",
     "text": [
      "/kaggle/input/ahdd1/csvTrainImages 60k x 784.csv\n",
      "/kaggle/input/ahdd1/csvTestLabel 10k x 1.csv\n",
      "/kaggle/input/ahdd1/csvTrainLabel 60k x 1.csv\n",
      "/kaggle/input/ahdd1/Train + Test Matlab.mat\n",
      "/kaggle/input/ahdd1/csvTestImages 10k x 784.csv\n",
      "/kaggle/input/ahdd1/csvTrainImages 60k x 784/csvTrainImages 60k x 784.csv\n",
      "/kaggle/input/ahdd1/Arabic Handwritten Digits Dataset CSV/csvTrainImages 60k x 784.csv\n",
      "/kaggle/input/ahdd1/Arabic Handwritten Digits Dataset CSV/csvTestLabel 10k x 1.csv\n",
      "/kaggle/input/ahdd1/Arabic Handwritten Digits Dataset CSV/csvTrainLabel 60k x 1.csv\n",
      "/kaggle/input/ahdd1/Arabic Handwritten Digits Dataset CSV/csvTestImages 10k x 784.csv\n"
     ]
    }
   ],
   "source": [
    "# This Python 3 environment comes with many helpful analytics libraries installed\n",
    "# It is defined by the kaggle/python Docker image: https://github.com/kaggle/docker-python\n",
    "# For example, here's several helpful packages to load\n",
    "\n",
    "import numpy as np # linear algebra\n",
    "import pandas as pd # data processing, CSV file I/O (e.g. pd.read_csv)\n",
    "\n",
    "# Input data files are available in the read-only \"../input/\" directory\n",
    "# For example, running this (by clicking run or pressing Shift+Enter) will list all files under the input directory\n",
    "\n",
    "import os\n",
    "for dirname, _, filenames in os.walk('/kaggle/input'):\n",
    "    for filename in filenames:\n",
    "        print(os.path.join(dirname, filename))\n",
    "\n",
    "# You can write up to 20GB to the current directory (/kaggle/working/) that gets preserved as output when you create a version using \"Save & Run All\" \n",
    "# You can also write temporary files to /kaggle/temp/, but they won't be saved outside of the current session"
   ]
  },
  {
   "cell_type": "code",
   "execution_count": 2,
   "id": "b16af3d6",
   "metadata": {
    "execution": {
     "iopub.execute_input": "2022-09-15T23:17:21.896114Z",
     "iopub.status.busy": "2022-09-15T23:17:21.895253Z",
     "iopub.status.idle": "2022-09-15T23:17:30.857641Z",
     "shell.execute_reply": "2022-09-15T23:17:30.856197Z"
    },
    "papermill": {
     "duration": 8.973374,
     "end_time": "2022-09-15T23:17:30.860470",
     "exception": false,
     "start_time": "2022-09-15T23:17:21.887096",
     "status": "completed"
    },
    "tags": []
   },
   "outputs": [],
   "source": [
    "import matplotlib.pyplot as plt\n",
    "import matplotlib.image as mpimg\n",
    "import seaborn as sns\n",
    "%matplotlib inline\n",
    "\n",
    "np.random.seed(2)\n",
    "\n",
    "from sklearn.model_selection import train_test_split\n",
    "from sklearn.metrics import confusion_matrix\n",
    "import itertools\n",
    "\n",
    "from keras.utils.np_utils import to_categorical # convert to one-hot-encoding\n",
    "from keras.models import Sequential\n",
    "from keras.layers import Dense, Dropout, Flatten, Conv2D, MaxPool2D\n",
    "from tensorflow.keras.optimizers import SGD,RMSprop\n",
    "from keras.preprocessing.image import ImageDataGenerator\n",
    "from keras.callbacks import ReduceLROnPlateau\n",
    "from keras.datasets import mnist\n",
    "\n",
    "sns.set(style='white', context='notebook', palette='deep')"
   ]
  },
  {
   "cell_type": "code",
   "execution_count": 3,
   "id": "c9f54056",
   "metadata": {
    "execution": {
     "iopub.execute_input": "2022-09-15T23:17:30.876256Z",
     "iopub.status.busy": "2022-09-15T23:17:30.875390Z",
     "iopub.status.idle": "2022-09-15T23:17:36.466383Z",
     "shell.execute_reply": "2022-09-15T23:17:36.464961Z"
    },
    "papermill": {
     "duration": 5.602545,
     "end_time": "2022-09-15T23:17:36.469550",
     "exception": false,
     "start_time": "2022-09-15T23:17:30.867005",
     "status": "completed"
    },
    "tags": []
   },
   "outputs": [],
   "source": [
    "# Load the data\n",
    "X_train = pd.read_csv('/kaggle/input/ahdd1/Arabic Handwritten Digits Dataset CSV/csvTrainImages 60k x 784.csv')\n",
    "Y_train = pd.read_csv('/kaggle/input/ahdd1/Arabic Handwritten Digits Dataset CSV/csvTrainLabel 60k x 1.csv')\n",
    "X_test = pd.read_csv('/kaggle/input/ahdd1/Arabic Handwritten Digits Dataset CSV/csvTestImages 10k x 784.csv')\n",
    "y_test = pd.read_csv('/kaggle/input/ahdd1/Arabic Handwritten Digits Dataset CSV/csvTestLabel 10k x 1.csv')"
   ]
  },
  {
   "cell_type": "code",
   "execution_count": 4,
   "id": "1a811360",
   "metadata": {
    "execution": {
     "iopub.execute_input": "2022-09-15T23:17:36.484811Z",
     "iopub.status.busy": "2022-09-15T23:17:36.484418Z",
     "iopub.status.idle": "2022-09-15T23:17:36.494690Z",
     "shell.execute_reply": "2022-09-15T23:17:36.493393Z"
    },
    "papermill": {
     "duration": 0.021173,
     "end_time": "2022-09-15T23:17:36.497380",
     "exception": false,
     "start_time": "2022-09-15T23:17:36.476207",
     "status": "completed"
    },
    "tags": []
   },
   "outputs": [
    {
     "data": {
      "text/plain": [
       "(59999, 784)"
      ]
     },
     "execution_count": 4,
     "metadata": {},
     "output_type": "execute_result"
    }
   ],
   "source": [
    "X_train.shape\n"
   ]
  },
  {
   "cell_type": "code",
   "execution_count": 5,
   "id": "3b4c1069",
   "metadata": {
    "execution": {
     "iopub.execute_input": "2022-09-15T23:17:36.513162Z",
     "iopub.status.busy": "2022-09-15T23:17:36.512367Z",
     "iopub.status.idle": "2022-09-15T23:17:36.520556Z",
     "shell.execute_reply": "2022-09-15T23:17:36.519078Z"
    },
    "papermill": {
     "duration": 0.019036,
     "end_time": "2022-09-15T23:17:36.523445",
     "exception": false,
     "start_time": "2022-09-15T23:17:36.504409",
     "status": "completed"
    },
    "tags": []
   },
   "outputs": [
    {
     "data": {
      "text/plain": [
       "(9999, 784)"
      ]
     },
     "execution_count": 5,
     "metadata": {},
     "output_type": "execute_result"
    }
   ],
   "source": [
    "X_test.shape"
   ]
  },
  {
   "cell_type": "markdown",
   "id": "a8ada748",
   "metadata": {
    "papermill": {
     "duration": 0.006387,
     "end_time": "2022-09-15T23:17:36.536674",
     "exception": false,
     "start_time": "2022-09-15T23:17:36.530287",
     "status": "completed"
    },
    "tags": []
   },
   "source": [
    "Normalize the Data"
   ]
  },
  {
   "cell_type": "code",
   "execution_count": 6,
   "id": "556265df",
   "metadata": {
    "execution": {
     "iopub.execute_input": "2022-09-15T23:17:36.551935Z",
     "iopub.status.busy": "2022-09-15T23:17:36.551511Z",
     "iopub.status.idle": "2022-09-15T23:17:36.673409Z",
     "shell.execute_reply": "2022-09-15T23:17:36.672412Z"
    },
    "papermill": {
     "duration": 0.132736,
     "end_time": "2022-09-15T23:17:36.676225",
     "exception": false,
     "start_time": "2022-09-15T23:17:36.543489",
     "status": "completed"
    },
    "tags": []
   },
   "outputs": [],
   "source": [
    "X_train=X_train/255.0\n",
    "X_test=X_test/255.0"
   ]
  },
  {
   "cell_type": "markdown",
   "id": "1ccf58a5",
   "metadata": {
    "papermill": {
     "duration": 0.006235,
     "end_time": "2022-09-15T23:17:36.689217",
     "exception": false,
     "start_time": "2022-09-15T23:17:36.682982",
     "status": "completed"
    },
    "tags": []
   },
   "source": [
    "Reshape the data"
   ]
  },
  {
   "cell_type": "code",
   "execution_count": 7,
   "id": "8e36f79d",
   "metadata": {
    "execution": {
     "iopub.execute_input": "2022-09-15T23:17:36.704503Z",
     "iopub.status.busy": "2022-09-15T23:17:36.704021Z",
     "iopub.status.idle": "2022-09-15T23:17:36.710280Z",
     "shell.execute_reply": "2022-09-15T23:17:36.708990Z"
    },
    "papermill": {
     "duration": 0.017507,
     "end_time": "2022-09-15T23:17:36.713348",
     "exception": false,
     "start_time": "2022-09-15T23:17:36.695841",
     "status": "completed"
    },
    "tags": []
   },
   "outputs": [],
   "source": [
    "# Reshape image in 3D array (height = 28px, width = 28px , canal = 1)\n",
    "\n",
    "X_train = X_train.values.reshape(-1,28,28,1)\n",
    "X_test = X_test.values.reshape(-1,28,28,1)"
   ]
  },
  {
   "cell_type": "code",
   "execution_count": 8,
   "id": "b3573ad2",
   "metadata": {
    "execution": {
     "iopub.execute_input": "2022-09-15T23:17:36.729179Z",
     "iopub.status.busy": "2022-09-15T23:17:36.728034Z",
     "iopub.status.idle": "2022-09-15T23:17:36.737305Z",
     "shell.execute_reply": "2022-09-15T23:17:36.736154Z"
    },
    "papermill": {
     "duration": 0.019716,
     "end_time": "2022-09-15T23:17:36.739745",
     "exception": false,
     "start_time": "2022-09-15T23:17:36.720029",
     "status": "completed"
    },
    "tags": []
   },
   "outputs": [
    {
     "data": {
      "text/plain": [
       "(9999, 28, 28, 1)"
      ]
     },
     "execution_count": 8,
     "metadata": {},
     "output_type": "execute_result"
    }
   ],
   "source": [
    "X_test.shape"
   ]
  },
  {
   "cell_type": "markdown",
   "id": "430a4f38",
   "metadata": {
    "papermill": {
     "duration": 0.008381,
     "end_time": "2022-09-15T23:17:36.755092",
     "exception": false,
     "start_time": "2022-09-15T23:17:36.746711",
     "status": "completed"
    },
    "tags": []
   },
   "source": [
    "Encode labels (one hot encoding)\n"
   ]
  },
  {
   "cell_type": "code",
   "execution_count": 9,
   "id": "8e391fb1",
   "metadata": {
    "execution": {
     "iopub.execute_input": "2022-09-15T23:17:36.771241Z",
     "iopub.status.busy": "2022-09-15T23:17:36.770428Z",
     "iopub.status.idle": "2022-09-15T23:17:36.777888Z",
     "shell.execute_reply": "2022-09-15T23:17:36.776840Z"
    },
    "papermill": {
     "duration": 0.018813,
     "end_time": "2022-09-15T23:17:36.780709",
     "exception": false,
     "start_time": "2022-09-15T23:17:36.761896",
     "status": "completed"
    },
    "tags": []
   },
   "outputs": [],
   "source": [
    "# Encode labels to one hot vectors (ex : 2 -> [0,0,1,0,0,0,0,0,0,0])\n",
    "Y_train = to_categorical(Y_train, num_classes = 10)\n",
    "y_test  = to_categorical(y_test , num_classes = 10)"
   ]
  },
  {
   "cell_type": "code",
   "execution_count": 10,
   "id": "3ead003d",
   "metadata": {
    "execution": {
     "iopub.execute_input": "2022-09-15T23:17:36.798181Z",
     "iopub.status.busy": "2022-09-15T23:17:36.797289Z",
     "iopub.status.idle": "2022-09-15T23:17:36.805471Z",
     "shell.execute_reply": "2022-09-15T23:17:36.804496Z"
    },
    "papermill": {
     "duration": 0.019419,
     "end_time": "2022-09-15T23:17:36.807783",
     "exception": false,
     "start_time": "2022-09-15T23:17:36.788364",
     "status": "completed"
    },
    "tags": []
   },
   "outputs": [
    {
     "data": {
      "text/plain": [
       "(59999, 10)"
      ]
     },
     "execution_count": 10,
     "metadata": {},
     "output_type": "execute_result"
    }
   ],
   "source": [
    "Y_train.shape"
   ]
  },
  {
   "cell_type": "markdown",
   "id": "6c0cb183",
   "metadata": {
    "papermill": {
     "duration": 0.006626,
     "end_time": "2022-09-15T23:17:36.821312",
     "exception": false,
     "start_time": "2022-09-15T23:17:36.814686",
     "status": "completed"
    },
    "tags": []
   },
   "source": [
    "Split data to training and validation\n"
   ]
  },
  {
   "cell_type": "code",
   "execution_count": 11,
   "id": "eaf2870a",
   "metadata": {
    "execution": {
     "iopub.execute_input": "2022-09-15T23:17:36.837123Z",
     "iopub.status.busy": "2022-09-15T23:17:36.836644Z",
     "iopub.status.idle": "2022-09-15T23:17:37.425832Z",
     "shell.execute_reply": "2022-09-15T23:17:37.424576Z"
    },
    "papermill": {
     "duration": 0.600649,
     "end_time": "2022-09-15T23:17:37.428717",
     "exception": false,
     "start_time": "2022-09-15T23:17:36.828068",
     "status": "completed"
    },
    "tags": []
   },
   "outputs": [],
   "source": [
    "X_train, X_val, Y_train, Y_val = train_test_split(X_train, Y_train, test_size = 0.1, random_state=4)\n"
   ]
  },
  {
   "cell_type": "code",
   "execution_count": 12,
   "id": "c7661393",
   "metadata": {
    "execution": {
     "iopub.execute_input": "2022-09-15T23:17:37.444826Z",
     "iopub.status.busy": "2022-09-15T23:17:37.444424Z",
     "iopub.status.idle": "2022-09-15T23:17:37.452951Z",
     "shell.execute_reply": "2022-09-15T23:17:37.451636Z"
    },
    "papermill": {
     "duration": 0.019738,
     "end_time": "2022-09-15T23:17:37.455760",
     "exception": false,
     "start_time": "2022-09-15T23:17:37.436022",
     "status": "completed"
    },
    "tags": []
   },
   "outputs": [
    {
     "data": {
      "text/plain": [
       "(53999, 28, 28, 1)"
      ]
     },
     "execution_count": 12,
     "metadata": {},
     "output_type": "execute_result"
    }
   ],
   "source": [
    "X_train.shape"
   ]
  },
  {
   "cell_type": "code",
   "execution_count": 13,
   "id": "044a6848",
   "metadata": {
    "execution": {
     "iopub.execute_input": "2022-09-15T23:17:37.471838Z",
     "iopub.status.busy": "2022-09-15T23:17:37.471426Z",
     "iopub.status.idle": "2022-09-15T23:17:37.707413Z",
     "shell.execute_reply": "2022-09-15T23:17:37.705755Z"
    },
    "papermill": {
     "duration": 0.247479,
     "end_time": "2022-09-15T23:17:37.710335",
     "exception": false,
     "start_time": "2022-09-15T23:17:37.462856",
     "status": "completed"
    },
    "tags": []
   },
   "outputs": [
    {
     "name": "stdout",
     "output_type": "stream",
     "text": [
      "[0. 0. 1. 0. 0. 0. 0. 0. 0. 0.]\n"
     ]
    },
    {
     "data": {
      "image/png": "[encoded data removed]",
      "text/plain": [
       "<Figure size 432x288 with 1 Axes>"
      ]
     },
     "metadata": {},
     "output_type": "display_data"
    }
   ],
   "source": [
    "img_num=2022   #  Please try with this number to understand how augment you data \n",
    "               # 1111, 111 ,101 ,144 ,663\n",
    "\n",
    "#image fixing\n",
    "\n",
    "image = (X_train[img_num])\n",
    "image = image.reshape([28, 28])\n",
    "image = np.fliplr(image)\n",
    "image = np.rot90(image)\n",
    "plt.imshow(image)\n",
    "\n",
    "\n",
    "print(Y_train[img_num])"
   ]
  },
  {
   "cell_type": "markdown",
   "id": "37895296",
   "metadata": {
    "papermill": {
     "duration": 0.007038,
     "end_time": "2022-09-15T23:17:37.724838",
     "exception": false,
     "start_time": "2022-09-15T23:17:37.717800",
     "status": "completed"
    },
    "tags": []
   },
   "source": [
    "CNN Model"
   ]
  },
  {
   "cell_type": "code",
   "execution_count": 14,
   "id": "fc342b29",
   "metadata": {
    "execution": {
     "iopub.execute_input": "2022-09-15T23:17:37.741736Z",
     "iopub.status.busy": "2022-09-15T23:17:37.740863Z",
     "iopub.status.idle": "2022-09-15T23:17:37.928629Z",
     "shell.execute_reply": "2022-09-15T23:17:37.927479Z"
    },
    "papermill": {
     "duration": 0.202426,
     "end_time": "2022-09-15T23:17:37.934524",
     "exception": false,
     "start_time": "2022-09-15T23:17:37.732098",
     "status": "completed"
    },
    "tags": []
   },
   "outputs": [
    {
     "name": "stdout",
     "output_type": "stream",
     "text": [
      "Model: \"sequential\"\n",
      "_________________________________________________________________\n",
      "Layer (type)                 Output Shape              Param #   \n",
      "=================================================================\n",
      "conv2d (Conv2D)              (None, 28, 28, 80)        2080      \n",
      "_________________________________________________________________\n",
      "max_pooling2d (MaxPooling2D) (None, 14, 14, 80)        0         \n",
      "_________________________________________________________________\n",
      "dropout (Dropout)            (None, 14, 14, 80)        0         \n",
      "_________________________________________________________________\n",
      "conv2d_1 (Conv2D)            (None, 14, 14, 64)        128064    \n",
      "_________________________________________________________________\n",
      "max_pooling2d_1 (MaxPooling2 (None, 7, 7, 64)          0         \n",
      "_________________________________________________________________\n",
      "dropout_1 (Dropout)          (None, 7, 7, 64)          0         \n",
      "_________________________________________________________________\n",
      "flatten (Flatten)            (None, 3136)              0         \n",
      "_________________________________________________________________\n",
      "dense (Dense)                (None, 128)               401536    \n",
      "_________________________________________________________________\n",
      "dropout_2 (Dropout)          (None, 128)               0         \n",
      "_________________________________________________________________\n",
      "dense_1 (Dense)              (None, 10)                1290      \n",
      "=================================================================\n",
      "Total params: 532,970\n",
      "Trainable params: 532,970\n",
      "Non-trainable params: 0\n",
      "_________________________________________________________________\n"
     ]
    },
    {
     "name": "stderr",
     "output_type": "stream",
     "text": [
      "2022-09-15 23:17:37.783070: I tensorflow/core/common_runtime/process_util.cc:146] Creating new thread pool with default inter op setting: 2. Tune using inter_op_parallelism_threads for best performance.\n"
     ]
    }
   ],
   "source": [
    "#Creating CNN model\n",
    "\n",
    "model = Sequential()\n",
    "\n",
    "model.add(Conv2D(filters = 80, kernel_size = (5,5),padding = 'Same', activation ='relu', input_shape = (28,28,1)))\n",
    "\n",
    "model.add(MaxPool2D(pool_size=(2,2)))\n",
    "model.add(Dropout(0.25))\n",
    "\n",
    "model.add(Conv2D(filters = 64, kernel_size = (5,5),padding = 'Same', activation ='relu'))\n",
    "\n",
    "model.add(MaxPool2D(pool_size=(2,2)))\n",
    "model.add(Dropout(0.25))\n",
    "\n",
    "\n",
    "model.add(Flatten())\n",
    "\n",
    "model.add(Dense(128, activation = \"relu\"))\n",
    "\n",
    "model.add(Dropout(0.25))\n",
    "\n",
    "model.add(Dense(10, activation = \"softmax\"))\n",
    "\n",
    "model.summary()"
   ]
  },
  {
   "cell_type": "code",
   "execution_count": 15,
   "id": "d2672f45",
   "metadata": {
    "execution": {
     "iopub.execute_input": "2022-09-15T23:17:37.953898Z",
     "iopub.status.busy": "2022-09-15T23:17:37.953504Z",
     "iopub.status.idle": "2022-09-15T23:17:37.959077Z",
     "shell.execute_reply": "2022-09-15T23:17:37.957940Z"
    },
    "papermill": {
     "duration": 0.018122,
     "end_time": "2022-09-15T23:17:37.961388",
     "exception": false,
     "start_time": "2022-09-15T23:17:37.943266",
     "status": "completed"
    },
    "tags": []
   },
   "outputs": [],
   "source": [
    "# Define the optimizer\n",
    "optimizer = SGD(learning_rate=0.001, momentum=0.30)"
   ]
  },
  {
   "cell_type": "code",
   "execution_count": 16,
   "id": "47c93164",
   "metadata": {
    "execution": {
     "iopub.execute_input": "2022-09-15T23:17:37.981092Z",
     "iopub.status.busy": "2022-09-15T23:17:37.979938Z",
     "iopub.status.idle": "2022-09-15T23:17:37.994581Z",
     "shell.execute_reply": "2022-09-15T23:17:37.993195Z"
    },
    "papermill": {
     "duration": 0.028942,
     "end_time": "2022-09-15T23:17:37.997621",
     "exception": false,
     "start_time": "2022-09-15T23:17:37.968679",
     "status": "completed"
    },
    "tags": []
   },
   "outputs": [],
   "source": [
    "# Compile the model\n",
    "model.compile(optimizer = optimizer , loss = \"categorical_crossentropy\", metrics=[\"accuracy\"])"
   ]
  },
  {
   "cell_type": "code",
   "execution_count": 17,
   "id": "eef1f749",
   "metadata": {
    "execution": {
     "iopub.execute_input": "2022-09-15T23:17:38.028583Z",
     "iopub.status.busy": "2022-09-15T23:17:38.026988Z",
     "iopub.status.idle": "2022-09-16T00:05:31.596354Z",
     "shell.execute_reply": "2022-09-16T00:05:31.594795Z"
    },
    "papermill": {
     "duration": 2873.584758,
     "end_time": "2022-09-16T00:05:31.599126",
     "exception": false,
     "start_time": "2022-09-15T23:17:38.014368",
     "status": "completed"
    },
    "tags": []
   },
   "outputs": [
    {
     "name": "stderr",
     "output_type": "stream",
     "text": [
      "2022-09-15 23:17:38.435766: I tensorflow/compiler/mlir/mlir_graph_optimization_pass.cc:185] None of the MLIR Optimization Passes are enabled (registered 2)\n"
     ]
    },
    {
     "name": "stdout",
     "output_type": "stream",
     "text": [
      "Epoch 1/30\n",
      "844/844 [==============================] - 95s 112ms/step - loss: 2.2374 - accuracy: 0.2559 - val_loss: 2.0818 - val_accuracy: 0.7037\n",
      "Epoch 2/30\n",
      "844/844 [==============================] - 94s 112ms/step - loss: 1.4228 - accuracy: 0.6485 - val_loss: 0.5600 - val_accuracy: 0.9007\n",
      "Epoch 3/30\n",
      "844/844 [==============================] - 94s 111ms/step - loss: 0.5225 - accuracy: 0.8557 - val_loss: 0.2545 - val_accuracy: 0.9415\n",
      "Epoch 4/30\n",
      "844/844 [==============================] - 95s 113ms/step - loss: 0.3379 - accuracy: 0.9064 - val_loss: 0.1852 - val_accuracy: 0.9527\n",
      "Epoch 5/30\n",
      "844/844 [==============================] - 96s 114ms/step - loss: 0.2680 - accuracy: 0.9242 - val_loss: 0.1582 - val_accuracy: 0.9587\n",
      "Epoch 6/30\n",
      "844/844 [==============================] - 95s 112ms/step - loss: 0.2304 - accuracy: 0.9332 - val_loss: 0.1326 - val_accuracy: 0.9652\n",
      "Epoch 7/30\n",
      "844/844 [==============================] - 96s 113ms/step - loss: 0.2030 - accuracy: 0.9420 - val_loss: 0.1223 - val_accuracy: 0.9680\n",
      "Epoch 8/30\n",
      "844/844 [==============================] - 95s 113ms/step - loss: 0.1847 - accuracy: 0.9477 - val_loss: 0.1112 - val_accuracy: 0.9690\n",
      "Epoch 9/30\n",
      "844/844 [==============================] - 95s 113ms/step - loss: 0.1738 - accuracy: 0.9515 - val_loss: 0.1055 - val_accuracy: 0.9723\n",
      "Epoch 10/30\n",
      "844/844 [==============================] - 95s 112ms/step - loss: 0.1632 - accuracy: 0.9535 - val_loss: 0.0988 - val_accuracy: 0.9728\n",
      "Epoch 11/30\n",
      "844/844 [==============================] - 95s 113ms/step - loss: 0.1497 - accuracy: 0.9581 - val_loss: 0.0953 - val_accuracy: 0.9730\n",
      "Epoch 12/30\n",
      "844/844 [==============================] - 96s 113ms/step - loss: 0.1435 - accuracy: 0.9590 - val_loss: 0.0917 - val_accuracy: 0.9737\n",
      "Epoch 13/30\n",
      "844/844 [==============================] - 95s 113ms/step - loss: 0.1370 - accuracy: 0.9604 - val_loss: 0.0870 - val_accuracy: 0.9762\n",
      "Epoch 14/30\n",
      "844/844 [==============================] - 95s 113ms/step - loss: 0.1304 - accuracy: 0.9624 - val_loss: 0.0833 - val_accuracy: 0.9770\n",
      "Epoch 15/30\n",
      "844/844 [==============================] - 96s 114ms/step - loss: 0.1252 - accuracy: 0.9642 - val_loss: 0.0834 - val_accuracy: 0.9752\n",
      "Epoch 16/30\n",
      "844/844 [==============================] - 96s 114ms/step - loss: 0.1219 - accuracy: 0.9646 - val_loss: 0.0796 - val_accuracy: 0.9780\n",
      "Epoch 17/30\n",
      "844/844 [==============================] - 96s 114ms/step - loss: 0.1179 - accuracy: 0.9675 - val_loss: 0.0768 - val_accuracy: 0.9783\n",
      "Epoch 18/30\n",
      "844/844 [==============================] - 96s 114ms/step - loss: 0.1156 - accuracy: 0.9671 - val_loss: 0.0750 - val_accuracy: 0.9792\n",
      "Epoch 19/30\n",
      "844/844 [==============================] - 96s 114ms/step - loss: 0.1100 - accuracy: 0.9683 - val_loss: 0.0724 - val_accuracy: 0.9798\n",
      "Epoch 20/30\n",
      "844/844 [==============================] - 96s 114ms/step - loss: 0.1075 - accuracy: 0.9700 - val_loss: 0.0709 - val_accuracy: 0.9797\n",
      "Epoch 21/30\n",
      "844/844 [==============================] - 96s 114ms/step - loss: 0.1033 - accuracy: 0.9708 - val_loss: 0.0692 - val_accuracy: 0.9810\n",
      "Epoch 22/30\n",
      "844/844 [==============================] - 96s 114ms/step - loss: 0.1029 - accuracy: 0.9701 - val_loss: 0.0677 - val_accuracy: 0.9817\n",
      "Epoch 23/30\n",
      "844/844 [==============================] - 96s 114ms/step - loss: 0.0984 - accuracy: 0.9717 - val_loss: 0.0660 - val_accuracy: 0.9823\n",
      "Epoch 24/30\n",
      "844/844 [==============================] - 96s 114ms/step - loss: 0.0967 - accuracy: 0.9726 - val_loss: 0.0648 - val_accuracy: 0.9822\n",
      "Epoch 25/30\n",
      "844/844 [==============================] - 96s 114ms/step - loss: 0.0935 - accuracy: 0.9735 - val_loss: 0.0636 - val_accuracy: 0.9823\n",
      "Epoch 26/30\n",
      "844/844 [==============================] - 96s 114ms/step - loss: 0.0925 - accuracy: 0.9729 - val_loss: 0.0632 - val_accuracy: 0.9833\n",
      "Epoch 27/30\n",
      "844/844 [==============================] - 97s 115ms/step - loss: 0.0897 - accuracy: 0.9738 - val_loss: 0.0610 - val_accuracy: 0.9828\n",
      "Epoch 28/30\n",
      "844/844 [==============================] - 97s 115ms/step - loss: 0.0866 - accuracy: 0.9755 - val_loss: 0.0595 - val_accuracy: 0.9828\n",
      "Epoch 29/30\n",
      "844/844 [==============================] - 96s 114ms/step - loss: 0.0869 - accuracy: 0.9747 - val_loss: 0.0584 - val_accuracy: 0.9835\n",
      "Epoch 30/30\n",
      "844/844 [==============================] - 97s 116ms/step - loss: 0.0835 - accuracy: 0.9754 - val_loss: 0.0587 - val_accuracy: 0.9837\n"
     ]
    }
   ],
   "source": [
    "history = model.fit( X_train,Y_train, batch_size=64, epochs = 30, validation_data = (X_val, Y_val), verbose = 1)\n"
   ]
  },
  {
   "cell_type": "code",
   "execution_count": 18,
   "id": "5b7795bb",
   "metadata": {
    "execution": {
     "iopub.execute_input": "2022-09-16T00:05:35.084213Z",
     "iopub.status.busy": "2022-09-16T00:05:35.083288Z",
     "iopub.status.idle": "2022-09-16T00:05:41.326593Z",
     "shell.execute_reply": "2022-09-16T00:05:41.325433Z"
    },
    "papermill": {
     "duration": 8.107497,
     "end_time": "2022-09-16T00:05:41.329281",
     "exception": false,
     "start_time": "2022-09-16T00:05:33.221784",
     "status": "completed"
    },
    "tags": []
   },
   "outputs": [],
   "source": [
    "# predict test results y_pred\n",
    "y_pred = model.predict(X_test)"
   ]
  },
  {
   "cell_type": "code",
   "execution_count": 19,
   "id": "6d4ee453",
   "metadata": {
    "execution": {
     "iopub.execute_input": "2022-09-16T00:05:44.687039Z",
     "iopub.status.busy": "2022-09-16T00:05:44.686265Z",
     "iopub.status.idle": "2022-09-16T00:05:50.053229Z",
     "shell.execute_reply": "2022-09-16T00:05:50.051603Z"
    },
    "papermill": {
     "duration": 7.106562,
     "end_time": "2022-09-16T00:05:50.056106",
     "exception": false,
     "start_time": "2022-09-16T00:05:42.949544",
     "status": "completed"
    },
    "tags": []
   },
   "outputs": [
    {
     "name": "stdout",
     "output_type": "stream",
     "text": [
      "Accuracy---> 97.59 %\n",
      "Loss---> 7.78 %\n"
     ]
    }
   ],
   "source": [
    "loss,accuracy=model.evaluate(X_test , y_test,verbose=3)\n",
    "print('Accuracy--->',round(accuracy*100,2),'%')\n",
    "print('Loss--->',round(loss*100,2),'%')"
   ]
  },
  {
   "cell_type": "code",
   "execution_count": null,
   "id": "ba015574",
   "metadata": {
    "papermill": {
     "duration": 1.867534,
     "end_time": "2022-09-16T00:05:53.676978",
     "exception": false,
     "start_time": "2022-09-16T00:05:51.809444",
     "status": "completed"
    },
    "tags": []
   },
   "outputs": [],
   "source": []
  },
  {
   "cell_type": "code",
   "execution_count": null,
   "id": "85e137f0",
   "metadata": {
    "papermill": {
     "duration": 1.89301,
     "end_time": "2022-09-16T00:05:57.188312",
     "exception": false,
     "start_time": "2022-09-16T00:05:55.295302",
     "status": "completed"
    },
    "tags": []
   },
   "outputs": [],
   "source": []
  },
  {
   "cell_type": "code",
   "execution_count": null,
   "id": "34e43226",
   "metadata": {
    "papermill": {
     "duration": 1.755738,
     "end_time": "2022-09-16T00:06:00.602495",
     "exception": false,
     "start_time": "2022-09-16T00:05:58.846757",
     "status": "completed"
    },
    "tags": []
   },
   "outputs": [],
   "source": []
  }
 ],
 "metadata": {
  "kernelspec": {
   "display_name": "Python 3",
   "language": "python",
   "name": "python3"
  },
  "language_info": {
   "codemirror_mode": {
    "name": "ipython",
    "version": 3
   },
   "file_extension": ".py",
   "mimetype": "text/x-python",
   "name": "python",
   "nbconvert_exporter": "python",
   "pygments_lexer": "ipython3",
   "version": "3.7.12"
  },
  "papermill": {
   "default_parameters": {},
   "duration": 2933.845045,
   "end_time": "2022-09-16T00:06:05.669663",
   "environment_variables": {},
   "exception": null,
   "input_path": "__notebook__.ipynb",
   "output_path": "__notebook__.ipynb",
   "parameters": {},
   "start_time": "2022-09-15T23:17:11.824618",
   "version": "2.3.4"
  }
 },
 "nbformat": 4,
 "nbformat_minor": 5
}
